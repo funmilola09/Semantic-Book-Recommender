{
 "cells": [
  {
   "cell_type": "code",
   "id": "initial_id",
   "metadata": {
    "collapsed": true,
    "ExecuteTime": {
     "end_time": "2025-05-05T17:40:58.983419Z",
     "start_time": "2025-05-05T17:40:58.885855Z"
    }
   },
   "source": [
    "import pandas as pd\n",
    "from keras.src.backend.jax.math import top_k\n",
    "\n",
    "books = pd.read_csv(\"books_cleaned_with_categories.csv\")"
   ],
   "outputs": [],
   "execution_count": 1
  },
  {
   "metadata": {
    "ExecuteTime": {
     "end_time": "2025-05-05T18:01:00.914588Z",
     "start_time": "2025-05-05T18:01:00.313237Z"
    }
   },
   "cell_type": "code",
   "source": [
    "##sentiment analysis into 7 categories of anger, disgust, fear, joy, neutral, sadness and surprise\n",
    "#use LLM to classify the dorminant emotional expression of the book by fine-tuning the model\n",
    "\n",
    "\n",
    "from transformers import pipeline\n",
    "classifier = pipeline(\"text-classification\",\n",
    "                      model=\"j-hartmann/emotion-english-distilroberta-base\",\n",
    "                      top_k=None)\n",
    "classifier(\"I love this!\")"
   ],
   "id": "845e565ab2f0e3fe",
   "outputs": [
    {
     "name": "stderr",
     "output_type": "stream",
     "text": [
      "Device set to use cpu\n"
     ]
    },
    {
     "data": {
      "text/plain": [
       "[[{'label': 'joy', 'score': 0.9771687984466553},\n",
       "  {'label': 'surprise', 'score': 0.008528673090040684},\n",
       "  {'label': 'neutral', 'score': 0.005764589179307222},\n",
       "  {'label': 'anger', 'score': 0.004419779404997826},\n",
       "  {'label': 'sadness', 'score': 0.002092391485348344},\n",
       "  {'label': 'disgust', 'score': 0.0016119909705594182},\n",
       "  {'label': 'fear', 'score': 0.00041385178337804973}]]"
      ]
     },
     "execution_count": 6,
     "metadata": {},
     "output_type": "execute_result"
    }
   ],
   "execution_count": 6
  },
  {
   "metadata": {
    "ExecuteTime": {
     "end_time": "2025-05-05T18:02:17.487678Z",
     "start_time": "2025-05-05T18:02:17.482797Z"
    }
   },
   "cell_type": "code",
   "source": "books[\"description\"][0]",
   "id": "d0711a619680a66",
   "outputs": [
    {
     "data": {
      "text/plain": [
       "'A NOVEL THAT READERS and critics have been eagerly anticipating for over a decade, Gilead is an astonishingly imagined story of remarkable lives. John Ames is a preacher, the son of a preacher and the grandson (both maternal and paternal) of preachers. It’s 1956 in Gilead, Iowa, towards the end of the Reverend Ames’s life, and he is absorbed in recording his family’s story, a legacy for the young son he will never see grow up. Haunted by his grandfather’s presence, John tells of the rift between his grandfather and his father: the elder, an angry visionary who fought for the abolitionist cause, and his son, an ardent pacifist. He is troubled, too, by his prodigal namesake, Jack (John Ames) Boughton, his best friend’s lost son who returns to Gilead searching for forgiveness and redemption. Told in John Ames’s joyous, rambling voice that finds beauty, humour and truth in the smallest of life’s details, Gilead is a song of celebration and acceptance of the best and the worst the world has to offer. At its heart is a tale of the sacred bonds between fathers and sons, pitch-perfect in style and story, set to dazzle critics and readers alike.'"
      ]
     },
     "execution_count": 7,
     "metadata": {},
     "output_type": "execute_result"
    }
   ],
   "execution_count": 7
  },
  {
   "metadata": {
    "ExecuteTime": {
     "end_time": "2025-05-05T18:03:10.283060Z",
     "start_time": "2025-05-05T18:03:10.120300Z"
    }
   },
   "cell_type": "code",
   "source": "classifier(books[\"description\"][0])",
   "id": "d07464d6de600b4c",
   "outputs": [
    {
     "data": {
      "text/plain": [
       "[[{'label': 'fear', 'score': 0.6548418998718262},\n",
       "  {'label': 'neutral', 'score': 0.16985182464122772},\n",
       "  {'label': 'sadness', 'score': 0.11640854179859161},\n",
       "  {'label': 'surprise', 'score': 0.020700592547655106},\n",
       "  {'label': 'disgust', 'score': 0.01910073682665825},\n",
       "  {'label': 'joy', 'score': 0.015161239542067051},\n",
       "  {'label': 'anger', 'score': 0.00393515033647418}]]"
      ]
     },
     "execution_count": 8,
     "metadata": {},
     "output_type": "execute_result"
    }
   ],
   "execution_count": 8
  },
  {
   "metadata": {
    "ExecuteTime": {
     "end_time": "2025-05-05T18:04:04.420475Z",
     "start_time": "2025-05-05T18:04:04.162951Z"
    }
   },
   "cell_type": "code",
   "source": "classifier(books[\"description\"][0].split(\".\"))",
   "id": "e8f18d7b76662f2d",
   "outputs": [
    {
     "data": {
      "text/plain": [
       "[[{'label': 'surprise', 'score': 0.7296027541160583},\n",
       "  {'label': 'neutral', 'score': 0.14038576185703278},\n",
       "  {'label': 'fear', 'score': 0.06816209107637405},\n",
       "  {'label': 'joy', 'score': 0.04794240742921829},\n",
       "  {'label': 'anger', 'score': 0.00915635284036398},\n",
       "  {'label': 'disgust', 'score': 0.0026284719351679087},\n",
       "  {'label': 'sadness', 'score': 0.0021221607457846403}],\n",
       " [{'label': 'neutral', 'score': 0.449370414018631},\n",
       "  {'label': 'disgust', 'score': 0.27359241247177124},\n",
       "  {'label': 'joy', 'score': 0.10908260941505432},\n",
       "  {'label': 'sadness', 'score': 0.09362703561782837},\n",
       "  {'label': 'anger', 'score': 0.040478307753801346},\n",
       "  {'label': 'surprise', 'score': 0.02697017230093479},\n",
       "  {'label': 'fear', 'score': 0.006879065651446581}],\n",
       " [{'label': 'neutral', 'score': 0.6462168097496033},\n",
       "  {'label': 'sadness', 'score': 0.2427326887845993},\n",
       "  {'label': 'disgust', 'score': 0.04342268034815788},\n",
       "  {'label': 'surprise', 'score': 0.028300466015934944},\n",
       "  {'label': 'joy', 'score': 0.014211482368409634},\n",
       "  {'label': 'fear', 'score': 0.014084089547395706},\n",
       "  {'label': 'anger', 'score': 0.011031883768737316}],\n",
       " [{'label': 'fear', 'score': 0.928168535232544},\n",
       "  {'label': 'anger', 'score': 0.0321907103061676},\n",
       "  {'label': 'neutral', 'score': 0.012808633036911488},\n",
       "  {'label': 'sadness', 'score': 0.00875683594495058},\n",
       "  {'label': 'surprise', 'score': 0.008597894571721554},\n",
       "  {'label': 'disgust', 'score': 0.008431794121861458},\n",
       "  {'label': 'joy', 'score': 0.0010455806041136384}],\n",
       " [{'label': 'sadness', 'score': 0.9671575427055359},\n",
       "  {'label': 'neutral', 'score': 0.015104170888662338},\n",
       "  {'label': 'disgust', 'score': 0.006480592768639326},\n",
       "  {'label': 'fear', 'score': 0.005393994972109795},\n",
       "  {'label': 'surprise', 'score': 0.0022869433742016554},\n",
       "  {'label': 'anger', 'score': 0.0018428886542096734},\n",
       "  {'label': 'joy', 'score': 0.001733880490064621}],\n",
       " [{'label': 'joy', 'score': 0.9327982664108276},\n",
       "  {'label': 'disgust', 'score': 0.03771686181426048},\n",
       "  {'label': 'neutral', 'score': 0.015891842544078827},\n",
       "  {'label': 'sadness', 'score': 0.006444473285228014},\n",
       "  {'label': 'anger', 'score': 0.005024951882660389},\n",
       "  {'label': 'surprise', 'score': 0.0015812074998393655},\n",
       "  {'label': 'fear', 'score': 0.0005423047696240246}],\n",
       " [{'label': 'joy', 'score': 0.6528704166412354},\n",
       "  {'label': 'neutral', 'score': 0.254274845123291},\n",
       "  {'label': 'surprise', 'score': 0.06808319687843323},\n",
       "  {'label': 'sadness', 'score': 0.009908993728458881},\n",
       "  {'label': 'disgust', 'score': 0.00651219068095088},\n",
       "  {'label': 'anger', 'score': 0.004821313079446554},\n",
       "  {'label': 'fear', 'score': 0.003529015462845564}],\n",
       " [{'label': 'neutral', 'score': 0.5494767427444458},\n",
       "  {'label': 'sadness', 'score': 0.11169015616178513},\n",
       "  {'label': 'disgust', 'score': 0.10400672256946564},\n",
       "  {'label': 'surprise', 'score': 0.07876548916101456},\n",
       "  {'label': 'anger', 'score': 0.06413363665342331},\n",
       "  {'label': 'fear', 'score': 0.05136279761791229},\n",
       "  {'label': 'joy', 'score': 0.040564414113759995}]]"
      ]
     },
     "execution_count": 9,
     "metadata": {},
     "output_type": "execute_result"
    }
   ],
   "execution_count": 9
  },
  {
   "metadata": {
    "ExecuteTime": {
     "end_time": "2025-05-05T20:33:01.621912Z",
     "start_time": "2025-05-05T20:33:01.369366Z"
    }
   },
   "cell_type": "code",
   "source": [
    "sentences = books[\"description\"][0].split(\".\")\n",
    "predictions = classifier(sentences)\n",
    "\"\"\"predictions = []\n",
    "for sentence in sentences:\n",
    "    # Access the predicted label for the current sentence\n",
    "    label = sentence[0]['label']\n",
    "    # Process the label or append it to the predictions list\n",
    "    predictions.append(label)\"\"\""
   ],
   "id": "81f5c75ebac58976",
   "outputs": [
    {
     "data": {
      "text/plain": [
       "\"predictions = []\\nfor sentence in sentences:\\n    # Access the predicted label for the current sentence\\n    label = sentence[0]['label']\\n    # Process the label or append it to the predictions list\\n    predictions.append(label)\""
      ]
     },
     "execution_count": 21,
     "metadata": {},
     "output_type": "execute_result"
    }
   ],
   "execution_count": 21
  },
  {
   "metadata": {
    "ExecuteTime": {
     "end_time": "2025-05-05T20:33:22.525219Z",
     "start_time": "2025-05-05T20:33:22.520793Z"
    }
   },
   "cell_type": "code",
   "source": "sentences[0]",
   "id": "da104647c282534b",
   "outputs": [
    {
     "data": {
      "text/plain": [
       "'A NOVEL THAT READERS and critics have been eagerly anticipating for over a decade, Gilead is an astonishingly imagined story of remarkable lives'"
      ]
     },
     "execution_count": 22,
     "metadata": {},
     "output_type": "execute_result"
    }
   ],
   "execution_count": 22
  },
  {
   "metadata": {
    "ExecuteTime": {
     "end_time": "2025-05-05T20:33:30.623860Z",
     "start_time": "2025-05-05T20:33:30.618991Z"
    }
   },
   "cell_type": "code",
   "source": "predictions[0]",
   "id": "c857138283b3ae6b",
   "outputs": [
    {
     "data": {
      "text/plain": [
       "[{'label': 'surprise', 'score': 0.7296027541160583},\n",
       " {'label': 'neutral', 'score': 0.14038576185703278},\n",
       " {'label': 'fear', 'score': 0.06816209107637405},\n",
       " {'label': 'joy', 'score': 0.04794240742921829},\n",
       " {'label': 'anger', 'score': 0.00915635284036398},\n",
       " {'label': 'disgust', 'score': 0.0026284719351679087},\n",
       " {'label': 'sadness', 'score': 0.0021221607457846403}]"
      ]
     },
     "execution_count": 23,
     "metadata": {},
     "output_type": "execute_result"
    }
   ],
   "execution_count": 23
  },
  {
   "metadata": {
    "ExecuteTime": {
     "end_time": "2025-05-05T20:36:07.799569Z",
     "start_time": "2025-05-05T20:36:07.795238Z"
    }
   },
   "cell_type": "code",
   "source": "sentences[4]",
   "id": "eaaa2a031e6ae077",
   "outputs": [
    {
     "data": {
      "text/plain": [
       "' He is troubled, too, by his prodigal namesake, Jack (John Ames) Boughton, his best friend’s lost son who returns to Gilead searching for forgiveness and redemption'"
      ]
     },
     "execution_count": 24,
     "metadata": {},
     "output_type": "execute_result"
    }
   ],
   "execution_count": 24
  },
  {
   "metadata": {
    "ExecuteTime": {
     "end_time": "2025-05-05T20:36:21.707856Z",
     "start_time": "2025-05-05T20:36:21.701742Z"
    }
   },
   "cell_type": "code",
   "source": "predictions[4]",
   "id": "1713f95c43a3a21",
   "outputs": [
    {
     "data": {
      "text/plain": [
       "[{'label': 'sadness', 'score': 0.9671575427055359},\n",
       " {'label': 'neutral', 'score': 0.015104170888662338},\n",
       " {'label': 'disgust', 'score': 0.006480592768639326},\n",
       " {'label': 'fear', 'score': 0.005393994972109795},\n",
       " {'label': 'surprise', 'score': 0.0022869433742016554},\n",
       " {'label': 'anger', 'score': 0.0018428886542096734},\n",
       " {'label': 'joy', 'score': 0.001733880490064621}]"
      ]
     },
     "execution_count": 25,
     "metadata": {},
     "output_type": "execute_result"
    }
   ],
   "execution_count": 25
  },
  {
   "metadata": {
    "ExecuteTime": {
     "end_time": "2025-05-05T20:40:25.741523Z",
     "start_time": "2025-05-05T20:40:25.735619Z"
    }
   },
   "cell_type": "code",
   "source": "sorted(predictions[0], key=lambda x: x['label'])",
   "id": "a8b18569921aded3",
   "outputs": [
    {
     "data": {
      "text/plain": [
       "[{'label': 'anger', 'score': 0.00915635284036398},\n",
       " {'label': 'disgust', 'score': 0.0026284719351679087},\n",
       " {'label': 'fear', 'score': 0.06816209107637405},\n",
       " {'label': 'joy', 'score': 0.04794240742921829},\n",
       " {'label': 'neutral', 'score': 0.14038576185703278},\n",
       " {'label': 'sadness', 'score': 0.0021221607457846403},\n",
       " {'label': 'surprise', 'score': 0.7296027541160583}]"
      ]
     },
     "execution_count": 26,
     "metadata": {},
     "output_type": "execute_result"
    }
   ],
   "execution_count": 26
  },
  {
   "metadata": {
    "ExecuteTime": {
     "end_time": "2025-05-05T21:19:19.249332Z",
     "start_time": "2025-05-05T21:19:19.240748Z"
    }
   },
   "cell_type": "code",
   "source": [
    "import numpy as np\n",
    "\n",
    "emotion_labels = [\"anger\", \"disgust\", \"fear\", \"joy\", \"sadness\", \"surprise\", \"neutral\"]\n",
    "isbn = []\n",
    "\n",
    "emotions_scores = {label: [] for label in emotion_labels}\n",
    "\n",
    "def calculate_max_emotion_score(predictions):\n",
    "    per_emotion_scores = {label: 0 for label in emotion_labels}\n",
    "    for prediction in predictions:\n",
    "        sorted_prediction = sorted(prediction, key=lambda x: x['label'])\n",
    "        for index, label in enumerate(emotion_labels):\n",
    "            per_emotion_scores[label] += sorted_prediction[index]['score']\n",
    "    return {label: per_emotion_scores[label] for label in emotion_labels}\n"
   ],
   "id": "928427699f586a77",
   "outputs": [],
   "execution_count": 30
  },
  {
   "metadata": {
    "ExecuteTime": {
     "end_time": "2025-05-05T21:19:24.006420Z",
     "start_time": "2025-05-05T21:19:21.757774Z"
    }
   },
   "cell_type": "code",
   "source": [
    "for i in range(10):\n",
    "    isbn.append(books[\"isbn13\"][i])\n",
    "    sentences = books[\"description\"][i].split(\".\")\n",
    "    predictions = classifier(sentences)\n",
    "    max_scores = calculate_max_emotion_score(predictions)\n",
    "    for label in emotion_labels:\n",
    "        emotions_scores[label].append(max_scores[label])"
   ],
   "id": "23e1383059c50250",
   "outputs": [],
   "execution_count": 31
  },
  {
   "metadata": {
    "ExecuteTime": {
     "end_time": "2025-05-05T21:20:49.077747Z",
     "start_time": "2025-05-05T21:20:49.069205Z"
    }
   },
   "cell_type": "code",
   "source": "emotions_scores",
   "id": "5a919163a409472b",
   "outputs": [
    {
     "data": {
      "text/plain": [
       "{'anger': [0.16868004493881017,\n",
       "  0.8872438357211649,\n",
       "  0.1186015522107482,\n",
       "  0.43835255689918995,\n",
       "  0.310380476526916,\n",
       "  0.5207432089373469,\n",
       "  1.2776674157939851,\n",
       "  0.09110514656640589,\n",
       "  0.723428139463067,\n",
       "  0.08890886465087533],\n",
       " 'disgust': [0.4827917267102748,\n",
       "  0.7088199253194034,\n",
       "  0.1301086643943563,\n",
       "  0.3184427674859762,\n",
       "  0.5810308875516057,\n",
       "  1.3805203968659043,\n",
       "  0.6212430975865573,\n",
       "  0.15022856183350086,\n",
       "  0.6839334794785827,\n",
       "  0.2893864926882088],\n",
       " 'fear': [1.078121894330252,\n",
       "  1.727293192059733,\n",
       "  1.1277449131011963,\n",
       "  0.4156788025284186,\n",
       "  0.24200275051407516,\n",
       "  0.12370701134204865,\n",
       "  2.1300094423349947,\n",
       "  0.5326627120375633,\n",
       "  1.3836436197161674,\n",
       "  0.10543496627360582],\n",
       " 'joy': [1.8002490574726835,\n",
       "  1.0825243642320856,\n",
       "  0.8102716018911451,\n",
       "  0.45742521923966706,\n",
       "  0.17065920680761337,\n",
       "  0.08562816947232932,\n",
       "  1.0325316882226616,\n",
       "  0.05706501146778464,\n",
       "  0.07773466932121664,\n",
       "  0.08914549648761749],\n",
       " 'sadness': [2.0835292199626565,\n",
       "  4.216346648521721,\n",
       "  0.5962946396321058,\n",
       "  2.0648869425058365,\n",
       "  4.361009806394577,\n",
       "  1.302902421914041,\n",
       "  4.317974202334881,\n",
       "  0.887099627405405,\n",
       "  1.7812491320073605,\n",
       "  2.0722557306289673],\n",
       " 'surprise': [1.4424398869741708,\n",
       "  0.42325278045609593,\n",
       "  0.12385071674361825,\n",
       "  0.1861937283538282,\n",
       "  1.011702874675393,\n",
       "  0.2262864736840129,\n",
       "  1.1740349768660963,\n",
       "  0.9546985756605864,\n",
       "  1.0197653314098716,\n",
       "  0.1735811773687601],\n",
       " 'neutral': [0.9441881239181384,\n",
       "  0.9545191563665867,\n",
       "  0.0931277358904481,\n",
       "  0.11901997542008758,\n",
       "  0.32321390649303794,\n",
       "  0.3602124161552638,\n",
       "  0.4465390080586076,\n",
       "  0.32714036386460066,\n",
       "  0.33024581312201917,\n",
       "  0.18128718063235283]}"
      ]
     },
     "execution_count": 32,
     "metadata": {},
     "output_type": "execute_result"
    }
   ],
   "execution_count": 32
  },
  {
   "metadata": {
    "ExecuteTime": {
     "end_time": "2025-05-05T21:52:46.949530Z",
     "start_time": "2025-05-05T21:24:58.720825Z"
    }
   },
   "cell_type": "code",
   "source": [
    "from tqdm import tqdm\n",
    "\n",
    "emotion_labels = [\"anger\", \"disgust\", \"fear\", \"joy\", \"sadness\", \"surprise\", \"neutral\"]\n",
    "isbn = []\n",
    "\n",
    "emotions_scores = {label: [] for label in emotion_labels}\n",
    "\n",
    "for i in tqdm  (range(len(books))):\n",
    "    isbn.append(books[\"isbn13\"][i])\n",
    "    sentences = books[\"description\"][i].split(\".\")\n",
    "    predictions = classifier(sentences)\n",
    "    max_scores = calculate_max_emotion_score(predictions)\n",
    "    for label in emotion_labels:\n",
    "        emotions_scores[label].append(max_scores[label])"
   ],
   "id": "9ef9ec640ab299af",
   "outputs": [
    {
     "name": "stderr",
     "output_type": "stream",
     "text": [
      "100%|██████████| 5197/5197 [27:48<00:00,  3.12it/s]  \n"
     ]
    }
   ],
   "execution_count": 33
  },
  {
   "metadata": {
    "ExecuteTime": {
     "end_time": "2025-05-05T22:02:18.078359Z",
     "start_time": "2025-05-05T22:02:18.057548Z"
    }
   },
   "cell_type": "code",
   "source": [
    "emotions_df = pd.DataFrame(emotions_scores)\n",
    "emotions_df[\"isbn13\"] = isbn\n"
   ],
   "id": "6d232f774c3c51ac",
   "outputs": [],
   "execution_count": 34
  },
  {
   "metadata": {
    "ExecuteTime": {
     "end_time": "2025-05-05T22:02:43.988532Z",
     "start_time": "2025-05-05T22:02:43.966007Z"
    }
   },
   "cell_type": "code",
   "source": "emotions_df.head()",
   "id": "f061279921e59db8",
   "outputs": [
    {
     "data": {
      "text/plain": [
       "      anger   disgust      fear       joy   sadness  surprise   neutral  \\\n",
       "0  0.168680  0.482792  1.078122  1.800249  2.083529  1.442440  0.944188   \n",
       "1  0.887244  0.708820  1.727293  1.082524  4.216347  0.423253  0.954519   \n",
       "2  0.118602  0.130109  1.127745  0.810272  0.596295  0.123851  0.093128   \n",
       "3  0.438353  0.318443  0.415679  0.457425  2.064887  0.186194  0.119020   \n",
       "4  0.310380  0.581031  0.242003  0.170659  4.361010  1.011703  0.323214   \n",
       "\n",
       "         isbn13  \n",
       "0  9.780002e+12  \n",
       "1  9.780002e+12  \n",
       "2  9.780006e+12  \n",
       "3  9.780006e+12  \n",
       "4  9.780006e+12  "
      ],
      "text/html": [
       "<div>\n",
       "<style scoped>\n",
       "    .dataframe tbody tr th:only-of-type {\n",
       "        vertical-align: middle;\n",
       "    }\n",
       "\n",
       "    .dataframe tbody tr th {\n",
       "        vertical-align: top;\n",
       "    }\n",
       "\n",
       "    .dataframe thead th {\n",
       "        text-align: right;\n",
       "    }\n",
       "</style>\n",
       "<table border=\"1\" class=\"dataframe\">\n",
       "  <thead>\n",
       "    <tr style=\"text-align: right;\">\n",
       "      <th></th>\n",
       "      <th>anger</th>\n",
       "      <th>disgust</th>\n",
       "      <th>fear</th>\n",
       "      <th>joy</th>\n",
       "      <th>sadness</th>\n",
       "      <th>surprise</th>\n",
       "      <th>neutral</th>\n",
       "      <th>isbn13</th>\n",
       "    </tr>\n",
       "  </thead>\n",
       "  <tbody>\n",
       "    <tr>\n",
       "      <th>0</th>\n",
       "      <td>0.168680</td>\n",
       "      <td>0.482792</td>\n",
       "      <td>1.078122</td>\n",
       "      <td>1.800249</td>\n",
       "      <td>2.083529</td>\n",
       "      <td>1.442440</td>\n",
       "      <td>0.944188</td>\n",
       "      <td>9.780002e+12</td>\n",
       "    </tr>\n",
       "    <tr>\n",
       "      <th>1</th>\n",
       "      <td>0.887244</td>\n",
       "      <td>0.708820</td>\n",
       "      <td>1.727293</td>\n",
       "      <td>1.082524</td>\n",
       "      <td>4.216347</td>\n",
       "      <td>0.423253</td>\n",
       "      <td>0.954519</td>\n",
       "      <td>9.780002e+12</td>\n",
       "    </tr>\n",
       "    <tr>\n",
       "      <th>2</th>\n",
       "      <td>0.118602</td>\n",
       "      <td>0.130109</td>\n",
       "      <td>1.127745</td>\n",
       "      <td>0.810272</td>\n",
       "      <td>0.596295</td>\n",
       "      <td>0.123851</td>\n",
       "      <td>0.093128</td>\n",
       "      <td>9.780006e+12</td>\n",
       "    </tr>\n",
       "    <tr>\n",
       "      <th>3</th>\n",
       "      <td>0.438353</td>\n",
       "      <td>0.318443</td>\n",
       "      <td>0.415679</td>\n",
       "      <td>0.457425</td>\n",
       "      <td>2.064887</td>\n",
       "      <td>0.186194</td>\n",
       "      <td>0.119020</td>\n",
       "      <td>9.780006e+12</td>\n",
       "    </tr>\n",
       "    <tr>\n",
       "      <th>4</th>\n",
       "      <td>0.310380</td>\n",
       "      <td>0.581031</td>\n",
       "      <td>0.242003</td>\n",
       "      <td>0.170659</td>\n",
       "      <td>4.361010</td>\n",
       "      <td>1.011703</td>\n",
       "      <td>0.323214</td>\n",
       "      <td>9.780006e+12</td>\n",
       "    </tr>\n",
       "  </tbody>\n",
       "</table>\n",
       "</div>"
      ]
     },
     "execution_count": 35,
     "metadata": {},
     "output_type": "execute_result"
    }
   ],
   "execution_count": 35
  },
  {
   "metadata": {
    "ExecuteTime": {
     "end_time": "2025-05-05T22:05:52.893157Z",
     "start_time": "2025-05-05T22:05:52.866171Z"
    }
   },
   "cell_type": "code",
   "source": "books = pd.merge(books, emotions_df, on=\"isbn13\")\n",
   "id": "4e58aa836baa5942",
   "outputs": [],
   "execution_count": 36
  },
  {
   "metadata": {
    "ExecuteTime": {
     "end_time": "2025-05-05T22:06:07.173723Z",
     "start_time": "2025-05-05T22:06:07.158478Z"
    }
   },
   "cell_type": "code",
   "source": "books.head()",
   "id": "2a505ad28660bb53",
   "outputs": [
    {
     "data": {
      "text/plain": [
       "         isbn13      isbn10                title  \\\n",
       "0  9.780002e+12  0002005883               Gilead   \n",
       "1  9.780002e+12  0002261987         Spider's Web   \n",
       "2  9.780006e+12  0006178731       Rage of angels   \n",
       "3  9.780006e+12  0006280897       The Four Loves   \n",
       "4  9.780006e+12  0006280935  The Problem of Pain   \n",
       "\n",
       "                           authors                     categories  \\\n",
       "0               Marilynne Robinson                        Fiction   \n",
       "1  Charles Osborne;Agatha Christie  Detective and mystery stories   \n",
       "2                   Sidney Sheldon                        Fiction   \n",
       "3              Clive Staples Lewis                 Christian life   \n",
       "4              Clive Staples Lewis                 Christian life   \n",
       "\n",
       "                                           thumbnail  \\\n",
       "0  http://books.google.com/books/content?id=KQZCP...   \n",
       "1  http://books.google.com/books/content?id=gA5GP...   \n",
       "2  http://books.google.com/books/content?id=FKo2T...   \n",
       "3  http://books.google.com/books/content?id=XhQ5X...   \n",
       "4  http://books.google.com/books/content?id=Kk-uV...   \n",
       "\n",
       "                                         description  published_year  \\\n",
       "0  A NOVEL THAT READERS and critics have been eag...          2004.0   \n",
       "1  A new 'Christie for Christmas' -- a full-lengt...          2000.0   \n",
       "2  A memorable, mesmerizing heroine Jennifer -- b...          1993.0   \n",
       "3  Lewis' work on the nature of love divides love...          2002.0   \n",
       "4  \"In The Problem of Pain, C.S. Lewis, one of th...          2002.0   \n",
       "\n",
       "   average_rating  num_pages  ...     title_and_subtitle  \\\n",
       "0            3.85      247.0  ...                 Gilead   \n",
       "1            3.83      241.0  ...  Spider's Web: A Novel   \n",
       "2            3.93      512.0  ...         Rage of angels   \n",
       "3            4.15      170.0  ...         The Four Loves   \n",
       "4            4.09      176.0  ...    The Problem of Pain   \n",
       "\n",
       "                                  tagged description simple_categories  \\\n",
       "0  9780002005883.0: A NOVEL THAT READERS and crit...           Fiction   \n",
       "1  9780002261982.0: A new 'Christie for Christmas...           Fiction   \n",
       "2  9780006178736.0: A memorable, mesmerizing hero...           Fiction   \n",
       "3  9780006280897.0: Lewis' work on the nature of ...        NonFiction   \n",
       "4  9780006280934.0: \"In The Problem of Pain, C.S....        NonFiction   \n",
       "\n",
       "      anger   disgust      fear       joy   sadness  surprise   neutral  \n",
       "0  0.168680  0.482792  1.078122  1.800249  2.083529  1.442440  0.944188  \n",
       "1  0.887244  0.708820  1.727293  1.082524  4.216347  0.423253  0.954519  \n",
       "2  0.118602  0.130109  1.127745  0.810272  0.596295  0.123851  0.093128  \n",
       "3  0.438353  0.318443  0.415679  0.457425  2.064887  0.186194  0.119020  \n",
       "4  0.310380  0.581031  0.242003  0.170659  4.361010  1.011703  0.323214  \n",
       "\n",
       "[5 rows x 22 columns]"
      ],
      "text/html": [
       "<div>\n",
       "<style scoped>\n",
       "    .dataframe tbody tr th:only-of-type {\n",
       "        vertical-align: middle;\n",
       "    }\n",
       "\n",
       "    .dataframe tbody tr th {\n",
       "        vertical-align: top;\n",
       "    }\n",
       "\n",
       "    .dataframe thead th {\n",
       "        text-align: right;\n",
       "    }\n",
       "</style>\n",
       "<table border=\"1\" class=\"dataframe\">\n",
       "  <thead>\n",
       "    <tr style=\"text-align: right;\">\n",
       "      <th></th>\n",
       "      <th>isbn13</th>\n",
       "      <th>isbn10</th>\n",
       "      <th>title</th>\n",
       "      <th>authors</th>\n",
       "      <th>categories</th>\n",
       "      <th>thumbnail</th>\n",
       "      <th>description</th>\n",
       "      <th>published_year</th>\n",
       "      <th>average_rating</th>\n",
       "      <th>num_pages</th>\n",
       "      <th>...</th>\n",
       "      <th>title_and_subtitle</th>\n",
       "      <th>tagged description</th>\n",
       "      <th>simple_categories</th>\n",
       "      <th>anger</th>\n",
       "      <th>disgust</th>\n",
       "      <th>fear</th>\n",
       "      <th>joy</th>\n",
       "      <th>sadness</th>\n",
       "      <th>surprise</th>\n",
       "      <th>neutral</th>\n",
       "    </tr>\n",
       "  </thead>\n",
       "  <tbody>\n",
       "    <tr>\n",
       "      <th>0</th>\n",
       "      <td>9.780002e+12</td>\n",
       "      <td>0002005883</td>\n",
       "      <td>Gilead</td>\n",
       "      <td>Marilynne Robinson</td>\n",
       "      <td>Fiction</td>\n",
       "      <td>http://books.google.com/books/content?id=KQZCP...</td>\n",
       "      <td>A NOVEL THAT READERS and critics have been eag...</td>\n",
       "      <td>2004.0</td>\n",
       "      <td>3.85</td>\n",
       "      <td>247.0</td>\n",
       "      <td>...</td>\n",
       "      <td>Gilead</td>\n",
       "      <td>9780002005883.0: A NOVEL THAT READERS and crit...</td>\n",
       "      <td>Fiction</td>\n",
       "      <td>0.168680</td>\n",
       "      <td>0.482792</td>\n",
       "      <td>1.078122</td>\n",
       "      <td>1.800249</td>\n",
       "      <td>2.083529</td>\n",
       "      <td>1.442440</td>\n",
       "      <td>0.944188</td>\n",
       "    </tr>\n",
       "    <tr>\n",
       "      <th>1</th>\n",
       "      <td>9.780002e+12</td>\n",
       "      <td>0002261987</td>\n",
       "      <td>Spider's Web</td>\n",
       "      <td>Charles Osborne;Agatha Christie</td>\n",
       "      <td>Detective and mystery stories</td>\n",
       "      <td>http://books.google.com/books/content?id=gA5GP...</td>\n",
       "      <td>A new 'Christie for Christmas' -- a full-lengt...</td>\n",
       "      <td>2000.0</td>\n",
       "      <td>3.83</td>\n",
       "      <td>241.0</td>\n",
       "      <td>...</td>\n",
       "      <td>Spider's Web: A Novel</td>\n",
       "      <td>9780002261982.0: A new 'Christie for Christmas...</td>\n",
       "      <td>Fiction</td>\n",
       "      <td>0.887244</td>\n",
       "      <td>0.708820</td>\n",
       "      <td>1.727293</td>\n",
       "      <td>1.082524</td>\n",
       "      <td>4.216347</td>\n",
       "      <td>0.423253</td>\n",
       "      <td>0.954519</td>\n",
       "    </tr>\n",
       "    <tr>\n",
       "      <th>2</th>\n",
       "      <td>9.780006e+12</td>\n",
       "      <td>0006178731</td>\n",
       "      <td>Rage of angels</td>\n",
       "      <td>Sidney Sheldon</td>\n",
       "      <td>Fiction</td>\n",
       "      <td>http://books.google.com/books/content?id=FKo2T...</td>\n",
       "      <td>A memorable, mesmerizing heroine Jennifer -- b...</td>\n",
       "      <td>1993.0</td>\n",
       "      <td>3.93</td>\n",
       "      <td>512.0</td>\n",
       "      <td>...</td>\n",
       "      <td>Rage of angels</td>\n",
       "      <td>9780006178736.0: A memorable, mesmerizing hero...</td>\n",
       "      <td>Fiction</td>\n",
       "      <td>0.118602</td>\n",
       "      <td>0.130109</td>\n",
       "      <td>1.127745</td>\n",
       "      <td>0.810272</td>\n",
       "      <td>0.596295</td>\n",
       "      <td>0.123851</td>\n",
       "      <td>0.093128</td>\n",
       "    </tr>\n",
       "    <tr>\n",
       "      <th>3</th>\n",
       "      <td>9.780006e+12</td>\n",
       "      <td>0006280897</td>\n",
       "      <td>The Four Loves</td>\n",
       "      <td>Clive Staples Lewis</td>\n",
       "      <td>Christian life</td>\n",
       "      <td>http://books.google.com/books/content?id=XhQ5X...</td>\n",
       "      <td>Lewis' work on the nature of love divides love...</td>\n",
       "      <td>2002.0</td>\n",
       "      <td>4.15</td>\n",
       "      <td>170.0</td>\n",
       "      <td>...</td>\n",
       "      <td>The Four Loves</td>\n",
       "      <td>9780006280897.0: Lewis' work on the nature of ...</td>\n",
       "      <td>NonFiction</td>\n",
       "      <td>0.438353</td>\n",
       "      <td>0.318443</td>\n",
       "      <td>0.415679</td>\n",
       "      <td>0.457425</td>\n",
       "      <td>2.064887</td>\n",
       "      <td>0.186194</td>\n",
       "      <td>0.119020</td>\n",
       "    </tr>\n",
       "    <tr>\n",
       "      <th>4</th>\n",
       "      <td>9.780006e+12</td>\n",
       "      <td>0006280935</td>\n",
       "      <td>The Problem of Pain</td>\n",
       "      <td>Clive Staples Lewis</td>\n",
       "      <td>Christian life</td>\n",
       "      <td>http://books.google.com/books/content?id=Kk-uV...</td>\n",
       "      <td>\"In The Problem of Pain, C.S. Lewis, one of th...</td>\n",
       "      <td>2002.0</td>\n",
       "      <td>4.09</td>\n",
       "      <td>176.0</td>\n",
       "      <td>...</td>\n",
       "      <td>The Problem of Pain</td>\n",
       "      <td>9780006280934.0: \"In The Problem of Pain, C.S....</td>\n",
       "      <td>NonFiction</td>\n",
       "      <td>0.310380</td>\n",
       "      <td>0.581031</td>\n",
       "      <td>0.242003</td>\n",
       "      <td>0.170659</td>\n",
       "      <td>4.361010</td>\n",
       "      <td>1.011703</td>\n",
       "      <td>0.323214</td>\n",
       "    </tr>\n",
       "  </tbody>\n",
       "</table>\n",
       "<p>5 rows × 22 columns</p>\n",
       "</div>"
      ]
     },
     "execution_count": 37,
     "metadata": {},
     "output_type": "execute_result"
    }
   ],
   "execution_count": 37
  },
  {
   "metadata": {
    "ExecuteTime": {
     "end_time": "2025-05-05T22:08:41.300714Z",
     "start_time": "2025-05-05T22:08:41.143096Z"
    }
   },
   "cell_type": "code",
   "source": "books.to_csv(\"books_with_emotions.csv\", index=False)",
   "id": "82fd5a30adab095f",
   "outputs": [],
   "execution_count": 38
  }
 ],
 "metadata": {
  "kernelspec": {
   "display_name": "Python 3",
   "language": "python",
   "name": "python3"
  },
  "language_info": {
   "codemirror_mode": {
    "name": "ipython",
    "version": 2
   },
   "file_extension": ".py",
   "mimetype": "text/x-python",
   "name": "python",
   "nbconvert_exporter": "python",
   "pygments_lexer": "ipython2",
   "version": "2.7.6"
  }
 },
 "nbformat": 4,
 "nbformat_minor": 5
}
